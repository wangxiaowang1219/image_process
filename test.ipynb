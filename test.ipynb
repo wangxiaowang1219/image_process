{
 "cells": [
  {
   "cell_type": "code",
   "execution_count": 34,
   "metadata": {},
   "outputs": [],
   "source": [
    "import torch\n",
    "import numpy as np\n",
    "import cv2"
   ]
  },
  {
   "cell_type": "code",
   "execution_count": 37,
   "metadata": {},
   "outputs": [
    {
     "data": {
      "text/plain": [
       "True"
      ]
     },
     "execution_count": 37,
     "metadata": {},
     "output_type": "execute_result"
    }
   ],
   "source": [
    "angle = 5\n",
    "center=None\n",
    "scale=1.0\n",
    "border_value=0\n",
    "auto_bound=True\n",
    "save_name ='test.jpg'\n",
    "        \n",
    "img = cv2.imread('8.jpg')\n",
    "if center is not None and auto_bound:\n",
    "    raise ValueError('`auto_bound` conflicts with `center`')\n",
    "h, w = img.shape[:2]\n",
    "if center is None:\n",
    "    center = ((w - 1) * 0.5, (h - 1) * 0.5)\n",
    "assert isinstance(center, tuple)\n",
    "\n",
    "matrix = cv2.getRotationMatrix2D(center, angle, scale)\n",
    "if auto_bound:\n",
    "    cos = np.abs(matrix[0, 0])\n",
    "    sin = np.abs(matrix[0, 1])\n",
    "    new_w = h * sin + w * cos\n",
    "    new_h = h * cos + w * sin\n",
    "    matrix[0, 2] += (new_w - w) * 0.5\n",
    "    matrix[1, 2] += (new_h - h) * 0.5\n",
    "    w = int(np.round(new_w))\n",
    "    h = int(np.round(new_h))\n",
    "rotated = cv2.warpAffine(img, matrix, (w, h), borderValue=border_value)\n",
    "cv2.imwrite(save_name, rotated)"
   ]
  },
  {
   "cell_type": "code",
   "execution_count": 42,
   "metadata": {},
   "outputs": [
    {
     "name": "stdout",
     "output_type": "stream",
     "text": [
      "[3, 9, 17, 21, 24, 27, 31, 43, 50, 55, 58, 61, 64, 67]\n",
      "14\n",
      "67\n"
     ]
    }
   ],
   "source": [
    "att_num = [3, 6, 8, 4, 3, 3, 4, 12, 7, 5, 3, 3, 3, 3,4]\n",
    "accml_attri_ind = [sum(att_num[:i+1]) for i in range(len(att_num))]\n",
    "print(accml_attri_ind)\n",
    "print(len(accml_attri_ind))\n",
    "print(sum(att_num))"
   ]
  },
  {
   "cell_type": "code",
   "execution_count": null,
   "metadata": {},
   "outputs": [],
   "source": []
  }
 ],
 "metadata": {
  "kernelspec": {
   "display_name": "Python 3",
   "language": "python",
   "name": "python3"
  },
  "language_info": {
   "codemirror_mode": {
    "name": "ipython",
    "version": 3
   },
   "file_extension": ".py",
   "mimetype": "text/x-python",
   "name": "python",
   "nbconvert_exporter": "python",
   "pygments_lexer": "ipython3",
   "version": "3.7.3"
  }
 },
 "nbformat": 4,
 "nbformat_minor": 2
}
